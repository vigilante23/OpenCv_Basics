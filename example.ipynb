{
 "cells": [
  {
   "cell_type": "code",
   "execution_count": 1,
   "metadata": {},
   "outputs": [],
   "source": [
    "import cv2\n",
    "import os\n",
    "import mediapipe as mp\n",
    "from PIL import Image\n",
    "from util import get_limits"
   ]
  },
  {
   "cell_type": "code",
   "execution_count": 7,
   "metadata": {},
   "outputs": [],
   "source": [
    "import cv2\n",
    "import os\n",
    "from PIL import Image\n",
    "\n",
    "from util import get_limits\n",
    "yellow = [0,255,255]  # yellow in BGR colorspace\n",
    "cap = cv2.VideoCapture(0)\n",
    "while True:\n",
    "    ret, frame = cap.read()\n",
    "    hsvImage = cv2.cvtColor(frame, cv2.COLOR_BGR2HSV)\n",
    "    lowerLimit, upperLimit = get_limits(yellow)\n",
    "    mask = cv2.inRange(hsvImage,lowerLimit, upperLimit )\n",
    "    mask_ = Image.fromarray(mask)\n",
    "    bbox = mask_.getbbox()\n",
    "\n",
    "    if bbox is not None:\n",
    "        x1,y1,x2,y2 = bbox\n",
    "        frame = cv2.rectangle(frame, (x1,y1), (x2,y2), (0,255,0), 5)\n",
    "    cv2.imshow('frame', frame)\n",
    "    if cv2.waitKey(1) & 0xFF == ord('q'):\n",
    "        break\n",
    "\n",
    "cap.release()\n",
    "cv2.destroyAllWindows()"
   ]
  },
  {
   "cell_type": "code",
   "execution_count": null,
   "metadata": {},
   "outputs": [],
   "source": [
    "\n"
   ]
  }
 ],
 "metadata": {
  "kernelspec": {
   "display_name": "base",
   "language": "python",
   "name": "python3"
  },
  "language_info": {
   "codemirror_mode": {
    "name": "ipython",
    "version": 3
   },
   "file_extension": ".py",
   "mimetype": "text/x-python",
   "name": "python",
   "nbconvert_exporter": "python",
   "pygments_lexer": "ipython3",
   "version": "3.10.9"
  },
  "orig_nbformat": 4
 },
 "nbformat": 4,
 "nbformat_minor": 2
}
